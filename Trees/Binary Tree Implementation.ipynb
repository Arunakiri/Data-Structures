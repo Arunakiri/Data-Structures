{
 "cells": [
  {
   "cell_type": "code",
   "execution_count": 112,
   "metadata": {},
   "outputs": [],
   "source": [
    "class BinaryTree:\n",
    "    def __init__(self,val):\n",
    "        self.data = val\n",
    "        self.left = None\n",
    "        self.right = None\n",
    "\n",
    "    def insertLeft(self,node):\n",
    "        if self.left == None:\n",
    "            self.left = BinaryTree(node)\n",
    "        else:\n",
    "            t = BinaryTree(node)\n",
    "            t.left = self.left\n",
    "            self.left = t\n",
    "\n",
    "    def insertRight(self,node):\n",
    "        if self.right == None:\n",
    "            self.right = BinaryTree(node)\n",
    "        else:\n",
    "            t = BinaryTree(node)\n",
    "            t.right = self.right\n",
    "            self.right = t\n",
    "    \n",
    "    def printTree(self):\n",
    "        if self.left:\n",
    "            self.left.printTree()\n",
    "        print(self.data)\n",
    "        if self.right:\n",
    "            self.right.printTree()"
   ]
  },
  {
   "cell_type": "code",
   "execution_count": 115,
   "metadata": {},
   "outputs": [],
   "source": [
    "r = BinaryTree(1)\n",
    "r.insertLeft(2)\n",
    "r.insertRight(3)\n",
    "r.insertRight(5)\n",
    "r.insertLeft(4)"
   ]
  },
  {
   "cell_type": "code",
   "execution_count": 116,
   "metadata": {},
   "outputs": [
    {
     "name": "stdout",
     "output_type": "stream",
     "text": [
      "2\n",
      "4\n",
      "1\n",
      "5\n",
      "3\n"
     ]
    }
   ],
   "source": [
    "r.printTree()"
   ]
  },
  {
   "cell_type": "markdown",
   "metadata": {},
   "source": []
  },
  {
   "cell_type": "code",
   "execution_count": 117,
   "metadata": {},
   "outputs": [],
   "source": [
    "class Node:\n",
    "    def __init__(self, val):\n",
    "        self.data = val\n",
    "        self.left = None\n",
    "        self.right = None\n",
    "        \n",
    "    def insertLeft(self, val):\n",
    "        if self.left is None:\n",
    "            self.left = Node(val)\n",
    "        else:\n",
    "            self.left.insertLeft(val)\n",
    "            \n",
    "    def insertRight(self, val):\n",
    "        if self.right is None:\n",
    "            self.right = Node(val)\n",
    "        else:\n",
    "            self.right.insertRight(val)\n",
    "    \n",
    "    def printTree(self):\n",
    "        if self.left:\n",
    "            self.left.printTree()\n",
    "        print(self.data)\n",
    "        if self.right:\n",
    "            self.right.printTree()"
   ]
  },
  {
   "cell_type": "code",
   "execution_count": 118,
   "metadata": {},
   "outputs": [],
   "source": [
    "t = Node(1)\n",
    "t.insertLeft(2)\n",
    "t.insertRight(3)\n",
    "t.insertLeft(4)\n",
    "t.insertRight(5)"
   ]
  },
  {
   "cell_type": "code",
   "execution_count": 119,
   "metadata": {},
   "outputs": [
    {
     "name": "stdout",
     "output_type": "stream",
     "text": [
      "4\n",
      "2\n",
      "1\n",
      "3\n",
      "5\n"
     ]
    }
   ],
   "source": [
    "t.printTree()"
   ]
  },
  {
   "cell_type": "markdown",
   "metadata": {},
   "source": [
    "### Binary Search Tree\n",
    "\n",
    "- left < Root < right"
   ]
  },
  {
   "cell_type": "code",
   "execution_count": 107,
   "metadata": {},
   "outputs": [],
   "source": [
    "class Node:\n",
    "    def __init__(self, val):\n",
    "        self.data = val\n",
    "        self.left = None\n",
    "        self.right = None\n",
    "        \n",
    "    def insert(self, val):\n",
    "        if val < self.data:\n",
    "            if self.left is None:\n",
    "                self.left = Node(val)\n",
    "            else:\n",
    "                self.left.insert(val)\n",
    "        elif val > self.data:\n",
    "            if self.right is None:\n",
    "                self.right = Node(val)\n",
    "            else:\n",
    "                self.right.insert(val)\n",
    "    \n",
    "    def printTree(self):\n",
    "        if self.left:\n",
    "            self.left.printTree()\n",
    "        print(self.data)\n",
    "        if self.right:\n",
    "            self.right.printTree()\n",
    "\n",
    "#  left -> root -> right\n",
    "    def inorder(self, node):\n",
    "        if node:\n",
    "            self.inorder(node.left)\n",
    "            print(node.data)\n",
    "            self.inorder(node.right)\n",
    "\n",
    "#  root -> left -> right\n",
    "    def preorder(self, node):\n",
    "        if node:\n",
    "            print(node.data)\n",
    "            self.preorder(node.left)\n",
    "            self.preorder(node.right)\n",
    "\n",
    "#  left -> right -> root\n",
    "    def postorder(self, node):\n",
    "        if node:\n",
    "            self.postorder(node.left)\n",
    "            self.postorder(node.right)\n",
    "            print(node.data)"
   ]
  },
  {
   "cell_type": "code",
   "execution_count": 108,
   "metadata": {},
   "outputs": [],
   "source": [
    "root = Node(27)\n",
    "root.insert(14)\n",
    "root.insert(35)\n",
    "root.insert(10)\n",
    "root.insert(19)\n",
    "root.insert(31)\n",
    "root.insert(42)"
   ]
  },
  {
   "cell_type": "code",
   "execution_count": 105,
   "metadata": {},
   "outputs": [
    {
     "name": "stdout",
     "output_type": "stream",
     "text": [
      "10\n",
      "14\n",
      "19\n",
      "27\n",
      "31\n",
      "35\n",
      "42\n"
     ]
    }
   ],
   "source": [
    "root.printTree()"
   ]
  },
  {
   "cell_type": "code",
   "execution_count": 106,
   "metadata": {
    "collapsed": true
   },
   "outputs": [
    {
     "name": "stdout",
     "output_type": "stream",
     "text": [
      "10\n",
      "14\n",
      "19\n",
      "27\n",
      "31\n",
      "35\n",
      "42\n"
     ]
    }
   ],
   "source": [
    "root.inorder(root)"
   ]
  },
  {
   "cell_type": "code",
   "execution_count": 109,
   "metadata": {},
   "outputs": [
    {
     "name": "stdout",
     "output_type": "stream",
     "text": [
      "27\n",
      "14\n",
      "10\n",
      "19\n",
      "35\n",
      "31\n",
      "42\n"
     ]
    }
   ],
   "source": [
    "root.preorder(root)"
   ]
  },
  {
   "cell_type": "code",
   "execution_count": 110,
   "metadata": {},
   "outputs": [
    {
     "name": "stdout",
     "output_type": "stream",
     "text": [
      "10\n",
      "19\n",
      "14\n",
      "31\n",
      "42\n",
      "35\n",
      "27\n"
     ]
    }
   ],
   "source": [
    "root.postorder(root)"
   ]
  },
  {
   "cell_type": "code",
   "execution_count": null,
   "metadata": {},
   "outputs": [],
   "source": []
  },
  {
   "cell_type": "code",
   "execution_count": null,
   "metadata": {},
   "outputs": [],
   "source": []
  }
 ],
 "metadata": {
  "kernelspec": {
   "display_name": "Python 3",
   "language": "python",
   "name": "python3"
  },
  "language_info": {
   "codemirror_mode": {
    "name": "ipython",
    "version": 3
   },
   "file_extension": ".py",
   "mimetype": "text/x-python",
   "name": "python",
   "nbconvert_exporter": "python",
   "pygments_lexer": "ipython3",
   "version": "3.8.5"
  }
 },
 "nbformat": 4,
 "nbformat_minor": 4
}
