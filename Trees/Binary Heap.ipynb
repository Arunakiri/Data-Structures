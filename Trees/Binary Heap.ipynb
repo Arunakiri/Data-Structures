{
 "cells": [
  {
   "cell_type": "code",
   "execution_count": 45,
   "metadata": {},
   "outputs": [],
   "source": [
    "class BinaryHeap:\n",
    "    def __init__(self):\n",
    "        self.heaplist = [0]\n",
    "        self.currentlength = 0\n",
    "    \n",
    "    def percup(self, i):\n",
    "        while i//2 > 0:\n",
    "            if self.heaplist[i] < self.heaplist[i//2]:\n",
    "                temp = self.heaplist[i//2]\n",
    "                self.heaplist[i//2] = self.heaplist[i]\n",
    "                self.heaplist[i] = temp\n",
    "            i = i//2\n",
    "    \n",
    "    def minChild(self, i):\n",
    "        if i*2+1 > self.currentlength:\n",
    "            return i*2\n",
    "        else:\n",
    "            if self.heaplist[i*2] < self.heaplist[i*2+1]:\n",
    "                return i*2\n",
    "            else:\n",
    "                return i*2+1\n",
    "    \n",
    "    def percdown(self, i):\n",
    "        while i*2 <= self.currentlength:\n",
    "            minchild = self.minChild(i)\n",
    "            if self.heaplist[i] > self.heaplist[minchild]:\n",
    "                temp = self.heaplist[i]\n",
    "                self.heaplist[i] = self.heaplist[minchild]\n",
    "                self.heaplist[minchild] = temp\n",
    "            i = minchild\n",
    "    \n",
    "    def insert(self, val):\n",
    "        self.heaplist.append(val)\n",
    "        self.currentlength += 1\n",
    "        self.percup(self.currentlength)\n",
    "    \n",
    "    def deleteMin(self):\n",
    "        self.heaplist[1] = self.heaplist[self.currentlength]\n",
    "        self.currentlength -= 1\n",
    "        self.heaplist.pop()        \n",
    "        self.percdown(1)\n",
    "    \n",
    "    # Building a heap from array\n",
    "    def buildHeap(self, arr):\n",
    "        i = len(arr)//2\n",
    "        self.heaplist = [0]+arr\n",
    "        self.currentlength = len(arr)\n",
    "        while i > 0:\n",
    "            self.percdown(i)\n",
    "            i -= 1        \n",
    "        \n",
    "    def printHeap(self):\n",
    "        if self.currentlength > 1:\n",
    "            return self.heaplist[1:]\n",
    "        else:\n",
    "            return 'Heap is empty'"
   ]
  },
  {
   "cell_type": "code",
   "execution_count": 36,
   "metadata": {},
   "outputs": [],
   "source": [
    "heap = BinaryHeap()\n",
    "heap.insert(5)\n",
    "heap.insert(6)\n",
    "heap.insert(7)\n",
    "heap.insert(8)\n",
    "heap.insert(9)\n",
    "heap.insert(10)"
   ]
  },
  {
   "cell_type": "code",
   "execution_count": 37,
   "metadata": {},
   "outputs": [
    {
     "data": {
      "text/plain": [
       "[5, 6, 7, 8, 9, 10]"
      ]
     },
     "execution_count": 37,
     "metadata": {},
     "output_type": "execute_result"
    }
   ],
   "source": [
    "heap.printHeap()"
   ]
  },
  {
   "cell_type": "code",
   "execution_count": 38,
   "metadata": {
    "scrolled": true
   },
   "outputs": [
    {
     "data": {
      "text/plain": [
       "6"
      ]
     },
     "execution_count": 38,
     "metadata": {},
     "output_type": "execute_result"
    }
   ],
   "source": [
    "heap.currentlength"
   ]
  },
  {
   "cell_type": "code",
   "execution_count": 39,
   "metadata": {},
   "outputs": [],
   "source": [
    "heap.insert(4)"
   ]
  },
  {
   "cell_type": "code",
   "execution_count": 40,
   "metadata": {},
   "outputs": [
    {
     "data": {
      "text/plain": [
       "[4, 6, 5, 8, 9, 10, 7]"
      ]
     },
     "execution_count": 40,
     "metadata": {},
     "output_type": "execute_result"
    }
   ],
   "source": [
    "heap.printHeap()"
   ]
  },
  {
   "cell_type": "code",
   "execution_count": 41,
   "metadata": {},
   "outputs": [
    {
     "data": {
      "text/plain": [
       "7"
      ]
     },
     "execution_count": 41,
     "metadata": {},
     "output_type": "execute_result"
    }
   ],
   "source": [
    "heap.currentlength"
   ]
  },
  {
   "cell_type": "code",
   "execution_count": 42,
   "metadata": {},
   "outputs": [],
   "source": [
    "heap.deleteMin()"
   ]
  },
  {
   "cell_type": "code",
   "execution_count": 43,
   "metadata": {},
   "outputs": [
    {
     "data": {
      "text/plain": [
       "[5, 6, 7, 8, 9, 10]"
      ]
     },
     "execution_count": 43,
     "metadata": {},
     "output_type": "execute_result"
    }
   ],
   "source": [
    "heap.printHeap()"
   ]
  },
  {
   "cell_type": "code",
   "execution_count": 50,
   "metadata": {},
   "outputs": [
    {
     "name": "stdout",
     "output_type": "stream",
     "text": [
      "Heap is empty\n",
      "[3, 18]\n",
      "[3, 18, 9]\n",
      "[3, 16, 9, 18]\n",
      "[3, 15, 9, 18, 16]\n",
      "[3, 15, 7, 18, 16, 9]\n",
      "[3, 15, 6, 18, 16, 9, 7]\n",
      "[3, 12, 6, 15, 16, 9, 7, 18]\n"
     ]
    }
   ],
   "source": [
    "new = BinaryHeap()\n",
    "\n",
    "new.insert(18)\n",
    "print(new.printHeap())\n",
    "\n",
    "new.insert(3)\n",
    "print(new.printHeap())\n",
    "\n",
    "new.insert(9)\n",
    "print(new.printHeap())\n",
    "\n",
    "new.insert(16)\n",
    "print(new.printHeap())\n",
    "\n",
    "new.insert(15)\n",
    "print(new.printHeap())\n",
    "\n",
    "new.insert(7)\n",
    "print(new.printHeap())\n",
    "\n",
    "new.insert(6)\n",
    "print(new.printHeap())\n",
    "\n",
    "new.insert(12)\n",
    "print(new.printHeap())"
   ]
  },
  {
   "cell_type": "code",
   "execution_count": 47,
   "metadata": {},
   "outputs": [],
   "source": [
    "arr = [18,3,9,16,15,7,6,12]\n",
    "new.buildHeap(arr)"
   ]
  },
  {
   "cell_type": "code",
   "execution_count": 48,
   "metadata": {},
   "outputs": [
    {
     "data": {
      "text/plain": [
       "[3, 12, 6, 16, 15, 7, 9, 18]"
      ]
     },
     "execution_count": 48,
     "metadata": {},
     "output_type": "execute_result"
    }
   ],
   "source": [
    "new.printHeap()"
   ]
  },
  {
   "cell_type": "code",
   "execution_count": null,
   "metadata": {},
   "outputs": [],
   "source": []
  }
 ],
 "metadata": {
  "kernelspec": {
   "display_name": "Python 3",
   "language": "python",
   "name": "python3"
  },
  "language_info": {
   "codemirror_mode": {
    "name": "ipython",
    "version": 3
   },
   "file_extension": ".py",
   "mimetype": "text/x-python",
   "name": "python",
   "nbconvert_exporter": "python",
   "pygments_lexer": "ipython3",
   "version": "3.8.5"
  }
 },
 "nbformat": 4,
 "nbformat_minor": 4
}
