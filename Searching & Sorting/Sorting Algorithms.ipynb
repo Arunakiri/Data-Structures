{
 "cells": [
  {
   "cell_type": "markdown",
   "metadata": {},
   "source": [
    "## Bubble Sort"
   ]
  },
  {
   "cell_type": "code",
   "execution_count": 14,
   "metadata": {},
   "outputs": [],
   "source": [
    "def bubblesort(arr):\n",
    "    for i in range(len(arr)-1, -1, -1):\n",
    "        for j in range(0, i):\n",
    "            if arr[j] > arr[j+1]:\n",
    "                arr[j+1], arr[j] = arr[j], arr[j+1]\n",
    "    print(arr)"
   ]
  },
  {
   "cell_type": "code",
   "execution_count": 39,
   "metadata": {},
   "outputs": [
    {
     "name": "stdout",
     "output_type": "stream",
     "text": [
      "[2, 3, 4, 5, 15, 19, 26, 27, 36, 38, 44, 46, 47, 48, 50]\n"
     ]
    }
   ],
   "source": [
    "s = '3 44 38 5 47 15 36 26 27 2 46 4 19 50 48'\n",
    "arr = list(map(int, s.split()))\n",
    "bubblesort(arr)"
   ]
  },
  {
   "cell_type": "markdown",
   "metadata": {},
   "source": [
    "## Insertion Sort"
   ]
  },
  {
   "cell_type": "code",
   "execution_count": 25,
   "metadata": {},
   "outputs": [],
   "source": [
    "def insertionsort(arr):\n",
    "    for i in range(1, len(arr)):\n",
    "        \n",
    "        currentvalue = arr[i]\n",
    "        position = i\n",
    "        \n",
    "        while currentvalue < arr[position-1] and position>0:    \n",
    "            arr[position] = arr[position-1]\n",
    "            position -= 1\n",
    "        \n",
    "        arr[position] = currentvalue\n",
    "    \n",
    "    return arr"
   ]
  },
  {
   "cell_type": "code",
   "execution_count": 26,
   "metadata": {},
   "outputs": [
    {
     "data": {
      "text/plain": [
       "[2, 3, 4, 5, 15, 19, 26, 27, 36, 38, 44, 46, 47, 48, 50]"
      ]
     },
     "execution_count": 26,
     "metadata": {},
     "output_type": "execute_result"
    }
   ],
   "source": [
    "insertionsort(arr)"
   ]
  },
  {
   "cell_type": "markdown",
   "metadata": {},
   "source": [
    "## Selection Sort"
   ]
  },
  {
   "cell_type": "code",
   "execution_count": 29,
   "metadata": {},
   "outputs": [],
   "source": [
    "def selectionsort(arr):\n",
    "    for i in range(len(arr)-1):\n",
    "        minval_index = i\n",
    "        for j in range(i+1, len(arr)):\n",
    "            if arr[j] < arr[minval_index]:\n",
    "                minval_index = j\n",
    "        arr[i], arr[minval_index] = arr[minval_index], arr[i]\n",
    "    return arr"
   ]
  },
  {
   "cell_type": "code",
   "execution_count": 30,
   "metadata": {},
   "outputs": [
    {
     "data": {
      "text/plain": [
       "[2, 3, 4, 5, 15, 19, 26, 27, 36, 38, 44, 46, 47, 48, 50]"
      ]
     },
     "execution_count": 30,
     "metadata": {},
     "output_type": "execute_result"
    }
   ],
   "source": [
    "selectionsort(arr)"
   ]
  },
  {
   "cell_type": "markdown",
   "metadata": {},
   "source": [
    "## Quick Sort"
   ]
  },
  {
   "cell_type": "code",
   "execution_count": 45,
   "metadata": {},
   "outputs": [],
   "source": [
    "from random import randint\n",
    "\n",
    "def quicksort(arr):\n",
    "    \n",
    "    if len(arr)<=1:\n",
    "        return arr\n",
    "    \n",
    "    smaller, equal, larger = [], [], []\n",
    "    \n",
    "    pivot = arr[randint(0,len(arr)-1)]\n",
    "    \n",
    "    for each in arr:\n",
    "        if each < pivot:\n",
    "            smaller.append(each)\n",
    "        elif each > pivot:\n",
    "            larger.append(each)\n",
    "        else:\n",
    "            equal.append(each)\n",
    "    \n",
    "#     print(pivot, '\\n', smaller, '\\n', equal, '\\n', larger)\n",
    "#     print('---------------------------------------')    \n",
    "    return quicksort(smaller)+equal+quicksort(larger)"
   ]
  },
  {
   "cell_type": "code",
   "execution_count": 46,
   "metadata": {},
   "outputs": [
    {
     "data": {
      "text/plain": [
       "[2, 3, 4, 5, 15, 19, 26, 27, 36, 38, 44, 46, 47, 48, 50]"
      ]
     },
     "execution_count": 46,
     "metadata": {},
     "output_type": "execute_result"
    }
   ],
   "source": [
    "s = '3 44 38 5 47 15 36 26 27 2 46 4 19 50 48'\n",
    "arr = list(map(int, s.split()))\n",
    "quicksort(arr)"
   ]
  },
  {
   "cell_type": "markdown",
   "metadata": {},
   "source": [
    "## Merge Sort"
   ]
  },
  {
   "cell_type": "code",
   "execution_count": 47,
   "metadata": {},
   "outputs": [],
   "source": [
    "def merge(left, right):\n",
    "    result = []\n",
    "    i, j = 0, 0 \n",
    "    \n",
    "    while i < len(left) and j < len(right):\n",
    "        if left[i] < right[j]:\n",
    "            result.append(left[i])\n",
    "            i+=1\n",
    "        else:\n",
    "            result.append(right[j])\n",
    "            j+=1 \n",
    "    \n",
    "    result += left[i:]\n",
    "    result += right[j:]\n",
    "    \n",
    "    return result\n",
    "\n",
    "def mergesort(arr):\n",
    "    if len(arr) <= 1:\n",
    "        return arr\n",
    "    \n",
    "    left = mergesort(arr[:len(arr)//2])\n",
    "    right = mergesort(arr[len(arr)//2:])\n",
    "    \n",
    "    return merge(left, right)"
   ]
  },
  {
   "cell_type": "code",
   "execution_count": 48,
   "metadata": {},
   "outputs": [
    {
     "data": {
      "text/plain": [
       "[2, 3, 4, 5, 15, 19, 26, 27, 36, 38, 44, 46, 47, 48, 50]"
      ]
     },
     "execution_count": 48,
     "metadata": {},
     "output_type": "execute_result"
    }
   ],
   "source": [
    "s = '3 44 38 5 47 15 36 26 27 2 46 4 19 50 48'\n",
    "arr = list(map(int, s.split()))\n",
    "mergesort(arr)"
   ]
  },
  {
   "cell_type": "code",
   "execution_count": null,
   "metadata": {},
   "outputs": [],
   "source": []
  }
 ],
 "metadata": {
  "kernelspec": {
   "display_name": "Python 3",
   "language": "python",
   "name": "python3"
  },
  "language_info": {
   "codemirror_mode": {
    "name": "ipython",
    "version": 3
   },
   "file_extension": ".py",
   "mimetype": "text/x-python",
   "name": "python",
   "nbconvert_exporter": "python",
   "pygments_lexer": "ipython3",
   "version": "3.8.5"
  }
 },
 "nbformat": 4,
 "nbformat_minor": 4
}
