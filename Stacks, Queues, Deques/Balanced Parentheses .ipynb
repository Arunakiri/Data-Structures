{
 "cells": [
  {
   "cell_type": "markdown",
   "metadata": {},
   "source": [
    "# Balanced Parantheses"
   ]
  },
  {
   "cell_type": "code",
   "execution_count": 34,
   "metadata": {},
   "outputs": [],
   "source": [
    "def check_validity(parentheses):\n",
    "    _open  = ['[','{','(']\n",
    "    _close = [']','}',')']\n",
    "    \n",
    "    stack = []\n",
    "    if parentheses.strip() == '':\n",
    "        return 'Empty'\n",
    "    for each in parentheses:\n",
    "        if each in _open:\n",
    "            stack.append(each)\n",
    "        elif each in _close:\n",
    "            idx = _close.index(each)\n",
    "            if stack[-1] == _open[idx]:\n",
    "                stack.pop()\n",
    "            else:\n",
    "                return 'Not Balanced: Closes without opens'\n",
    "    if stack == []:\n",
    "        return 'Balanced'\n",
    "    return 'Not Balanced: Opens without closes'"
   ]
  },
  {
   "cell_type": "code",
   "execution_count": 35,
   "metadata": {},
   "outputs": [
    {
     "name": "stdout",
     "output_type": "stream",
     "text": [
      "Not Balanced: Opens without closes\n",
      "Balanced\n",
      "Not Balanced: Closes without opens\n",
      "Not Balanced: Closes without opens\n",
      "Not Balanced: Opens without closes\n",
      "Empty\n"
     ]
    }
   ],
   "source": [
    "checklist = ['[](){([[[]]])}(', \n",
    "             '[{{{(())}}}]((()))',\n",
    "             '[[[]])]', \n",
    "             '[}{]', \n",
    "             '{',\n",
    "             '']\n",
    "\n",
    "for each in checklist:\n",
    "    print(check_validity(each))"
   ]
  },
  {
   "cell_type": "code",
   "execution_count": 38,
   "metadata": {},
   "outputs": [],
   "source": [
    "def check_validity(string):\n",
    "    _open = '({['\n",
    "    pairs = [('(',')'), ('{','}'), ('[',']')]\n",
    "    \n",
    "    stack = []\n",
    "    if string.strip() == '':\n",
    "        return False\n",
    "    for i in string:\n",
    "        if i in _open:\n",
    "            stack.append(i)\n",
    "        else:\n",
    "            if len(stack) == 0:\n",
    "                return False\n",
    "            last_open = stack.pop()\n",
    "            if (last_open, i) not in pairs:\n",
    "                return False\n",
    "    \n",
    "    return len(stack) == 0"
   ]
  },
  {
   "cell_type": "code",
   "execution_count": 39,
   "metadata": {},
   "outputs": [
    {
     "name": "stdout",
     "output_type": "stream",
     "text": [
      "False\n",
      "True\n",
      "False\n",
      "False\n",
      "False\n",
      "False\n"
     ]
    }
   ],
   "source": [
    "checklist = ['[](){([[[]]])}(', \n",
    "             '[{{{(())}}}]((()))',\n",
    "             '[[[]])]', \n",
    "             '[}{]', \n",
    "             '{',\n",
    "             '']\n",
    "\n",
    "for each in checklist:\n",
    "    print(check_validity(each))"
   ]
  },
  {
   "cell_type": "code",
   "execution_count": null,
   "metadata": {},
   "outputs": [],
   "source": []
  }
 ],
 "metadata": {
  "kernelspec": {
   "display_name": "Python 3",
   "language": "python",
   "name": "python3"
  },
  "language_info": {
   "codemirror_mode": {
    "name": "ipython",
    "version": 3
   },
   "file_extension": ".py",
   "mimetype": "text/x-python",
   "name": "python",
   "nbconvert_exporter": "python",
   "pygments_lexer": "ipython3",
   "version": "3.8.5"
  }
 },
 "nbformat": 4,
 "nbformat_minor": 4
}
